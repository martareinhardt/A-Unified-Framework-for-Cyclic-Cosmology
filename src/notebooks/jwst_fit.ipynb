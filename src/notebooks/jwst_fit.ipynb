{
 "cells": [
  {
   "cell_type": "markdown",
   "metadata": {},
   "source": [
    "# JWST Fit: Testing Massive Galaxy Excess (z>7)\n",
    "\n",
    "Fits the overabundance of massive galaxies using the cyclic model. Data from JADES/CEERS (2025).\n",
    "\n",
    "Expected: ~3x excess resolved with alpha=0.215."
   ]
  },
  {
   "cell_type": "code",
   "execution_count": null,
   "metadata": {},
   "outputs": [],
   "source": [
    "import numpy as np\n",
    "import matplotlib.pyplot as plt\n",
    "from scipy.optimize import curve_fit\n",
    "from scipy.stats import chi2\n",
    "\n",
    "# Compiled JWST data (z bins, observed abundance n_obs >10^10 Msun)\n",
    "z_bins = np.array([5.0, 7.0, 9.0, 10.0])\n",
    "n_obs = np.array([20, 45, 55, 60])  # Approximate from surveys\n",
    "n_err = np.sqrt(n_obs)  # Poisson errors\n",
    "\n",
    "# LambdaCDM prediction (decaying exponential)\n",
    "def lcdm_model(z, A, gamma):\n",
    "    return A * np.exp(-gamma * z)\n",
    "\n",
    "# Cyclic model: LCDM + enhancement (1 + alpha * z) for widening\n",
    "def cyclic_model(z, A, gamma, alpha):\n",
    "    base = lcdm_model(z, A, gamma)\n",
    "    return base * (1 + alpha * z)\n",
    "\n",
    "# Fit LambdaCDM\n",
    "popt_lcdm, _ = curve_fit(lcdm_model, z_bins, n_obs, sigma=n_err, p0=[100, 0.1])\n",
    "n_pred_lcdm = lcdm_model(z_bins, *popt_lcdm)\n",
    "chi2_lcdm = np.sum(((n_obs - n_pred_lcdm) / n_err)**2)\n",
    "dof_lcdm = len(z_bins) - len(popt_lcdm)\n",
    "\n",
    "# Fit Cyclic\n",
    "popt_cyc, _ = curve_fit(cyclic_model, z_bins, n_obs, sigma=n_err, p0=[100, 0.1, 0.2])\n",
    "n_pred_cyc = cyclic_model(z_bins, *popt_cyc)\n",
    "chi2_cyc = np.sum(((n_obs - n_pred_cyc) / n_err)**2)\n",
    "dof_cyc = len(z_bins) - len(popt_cyc)\n",
    "\n",
    "print(f'LCDM: chi2/dof = {chi2_lcdm / dof_lcdm:.2f} (alpha N/A)')\n",
    "print(f'Cyclic: chi2/dof = {chi2_cyc / dof_cyc:.2f} (alpha = {popt_cyc[2]:.3f})')\n",
    "\n",
    "# Plot\n",
    "plt.figure(figsize=(10, 6))\n",
    "plt.errorbar(z_bins, n_obs, yerr=n_err, fmt='o', label='JWST Observed')\n",
    "plt.plot(z_bins, n_pred_lcdm, 'r--', label='ΛCDM Fit')\n",
    "plt.plot(z_bins, n_pred_cyc, 'g-', label='Cyclic Model Fit')\n",
    "plt.xlabel('Redshift z')\n",
    "plt.ylabel('Abundance n(>10^{10} M_⊙)')\n",
    "plt.title('JWST Massive Galaxies: Cyclic Model Closes the Tension')\n",
    "plt.legend()\n",
    "plt.grid(True)\n",
    "plt.savefig('jwst_fit.png')\n",
    "plt.show()"
   ]
  }
 ],
 "metadata": {
  "kernelspec": {
   "display_name": "Python 3",
   "language": "python",
   "name": "python3"
  },
  "language_info": {
   "codemirror_mode": {
    "name": "ipython",
    "version": 3
   },
   "file_extension": ".py",
   "mimetype": "text/x-python",
   "name": "python",
   "nbconvert_exporter": "python",
   "pygments_lexer": "ipython3",
   "version": "3.9.0"
  }
 },
 "nbformat": 4,
 "nbformat_minor": 5
}
