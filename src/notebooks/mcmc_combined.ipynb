{
 "cells": [
  {
   "cell_type": "markdown",
   "metadata": {},
   "source": [
    "# Global MCMC Fit: JWST + DESI + CMB + Chandra\n",
    "\n",
    "Ensemble sampler (emcee-inspired) for combined datasets, optimizing alpha for 100% closure.\n",
    "\n",
    "Prior: Uniform [0,1] for alpha; Gaussian likelihood from chi2 residuals."
   ]
  },
  {
   "cell_type": "code",
   "execution_count": null,
   "metadata": {},
   "outputs": [],
   "source": [
    "import numpy as np\n",
    "import emcee\n",
    "import matplotlib.pyplot as plt\n",
    "from scipy.stats import norm\n",
    "\n",
    "# Mock combined residuals (from previous tests: JWST overabundance, DESI H(z), etc.)\n",
    "# chi2_total = sum over datasets\n",
    "def log_posterior(alpha):\n",
    "    # Simplified: chi2 proxy as -sum((data - model(alpha))^2 / sigma^2)\n",
    "    chi2_jwst = 1.12 * (1 - alpha / 0.2)**2  # From JWST fit\n",
    "    chi2_desi = 0.68 * (1 + alpha)**2  # DESI\n",
    "    chi2_cmb = 0.98 * np.exp(alpha)  # CMB\n",
    "    chi2_chandra = 4.2 * (1 - alpha * 2)**2  # Chandra growth\n",
    "    chi2_total = chi2_jwst + chi2_desi + chi2_cmb + chi2_chandra\n",
    "    log_lik = -0.5 * chi2_total\n",
    "    log_prior = 0 if 0 < alpha < 1 else -np.inf  # Uniform prior\n",
    "    return log_lik + log_prior\n",
    "\n",
    "# MCMC setup (emcee)\n",
    "ndim = 1  # Alpha only\n",
    "nwalkers = 20\n",
    "nsteps = 2000\n",
    "pos = np.random.uniform(0.1, 0.9, (nwalkers, ndim))  # Initial positions\n",
    "sampler = emcee.EnsembleSampler(nwalkers, ndim, log_posterior)\n",
    "sampler.run_mcmc(pos, nsteps, progress=True)\n",
    "\n",
    "# Results\n",
    "samples = sampler.get_chain(discard=400, flat=True)  # Burn-in 20%\n",
    "alpha_mean = np.mean(samples)\n",
    "alpha_std = np.std(samples)\n",
    "print(f'Alpha posterior: {alpha_mean:.3f} ± {alpha_std:.3f}')\n",
    "\n",
    "# Plot chain and posterior\n",
    "fig, ax = plt.subplots(2, 1, figsize=(8, 6))\n",
    "ax[0].plot(sampler.get_chain()[:, :, 0].T, alpha=0.5)\n",
    "ax[0].set_title('Alpha Chain')\n",
    "ax[1].hist(samples, bins=50, density=True)\n",
    "ax[1].set_title('Posterior')\n",
    "plt.tight_layout()\n",
    "plt.savefig('mcmc_alpha.png')\n",
    "plt.show()"
   ]
  }
 ],
 "metadata": {
  "kernelspec": {
   "display_name": "Python 3",
   "language": "python",
   "name": "python3"
  },
  "language_info": {
   "codemirror_mode": {
    "name": "ipython",
    "version": 3
   },
   "file_extension": ".py",
   "mimetype": "text/x-python",
   "name": "python",
   "nbconvert_exporter": "python",
   "pygments_lexer": "ipython3",
   "version": "3.9.0"
  }
 },
 "nbformat": 4,
 "nbformat_minor": 5
}
