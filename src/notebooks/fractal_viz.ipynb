{
 "cells": [
  {
   "cell_type": "markdown",
   "metadata": {},
   "source": [
    "# Visualização Fractal das Fases (φ-based)\n",
    "Explora spirals da razão áurea nas estruturas cósmicas."
   ]
  },
  {
   "cell_type": "code",
   "execution_count": null,
   "metadata": {},
   "outputs": [],
   "source": [
    "import matplotlib.pyplot as plt\n",
    "import numpy as np\n",
    "phi = (1 + np.sqrt(5)) / 2\n",
    "theta = np.linspace(0, 10*np.pi, 1000)\n",
    "r = np.exp(theta / phi)\n",
    "plt.polar(theta, r)\n",
    "plt.title('Spiral Fractal Cósmica (φ)')\n",
    "plt.savefig('../results/fractal_spiral.png')\n",
    "plt.show()"
   ]
  }
 ],
 "metadata": {
  "kernelspec": {
   "display_name": "Python 3",
   "language": "python",
   "name": "python3"
  }
 },
 "nbformat": 4,
 "nbformat_minor": 5
}
